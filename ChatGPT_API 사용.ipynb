{
  "nbformat": 4,
  "nbformat_minor": 0,
  "metadata": {
    "colab": {
      "provenance": [],
      "toc_visible": true,
      "include_colab_link": true
    },
    "kernelspec": {
      "name": "python3",
      "display_name": "Python 3"
    }
  },
  "cells": [
    {
      "cell_type": "markdown",
      "metadata": {
        "id": "view-in-github",
        "colab_type": "text"
      },
      "source": [
        "<a href=\"https://colab.research.google.com/github/mingd00/aivle-miniproj6/blob/main/2%EC%B0%A8.%20%EC%9D%91%EA%B8%89%EC%83%81%ED%99%A9%20%EC%9D%B8%EC%8B%9D%20%EB%B0%8F%20%EC%9D%91%EA%B8%89%EC%8B%A4%20%EC%97%B0%EA%B3%84/%EC%B0%B8%EC%A1%B0_API%EC%82%AC%EC%9A%A9_ChatGPT_API.ipynb\" target=\"_parent\"><img src=\"https://colab.research.google.com/assets/colab-badge.svg\" alt=\"Open In Colab\"/></a>"
      ]
    },
    {
      "cell_type": "markdown",
      "metadata": {
        "id": "cVB9pY-v8uv5"
      },
      "source": [
        "# ChatGPT API"
      ]
    },
    {
      "cell_type": "markdown",
      "source": [
        "# 1.환경준비"
      ],
      "metadata": {
        "id": "qTa9LlwZD_aa"
      }
    },
    {
      "cell_type": "markdown",
      "source": [
        "## (1) 구글 드라이브\n",
        "* 새 폴더(project6_2)를 생성하고\n",
        "* 제공 받은 파일을 업로드"
      ],
      "metadata": {
        "id": "xUOpvAJGGJnL"
      }
    },
    {
      "cell_type": "markdown",
      "source": [
        "* 구글 드라이브 연결"
      ],
      "metadata": {
        "id": "4jUC5td4GLEF"
      }
    },
    {
      "cell_type": "code",
      "source": [
        "from google.colab import drive\n",
        "drive.mount('/content/drive')"
      ],
      "metadata": {
        "id": "_wX7xlPARSDj",
        "colab": {
          "base_uri": "https://localhost:8080/"
        },
        "outputId": "c490024b-619f-4f05-8264-94d80a4a681b"
      },
      "execution_count": 1,
      "outputs": [
        {
          "output_type": "stream",
          "name": "stdout",
          "text": [
            "Mounted at /content/drive\n"
          ]
        }
      ]
    },
    {
      "cell_type": "code",
      "source": [
        "path = '/content/drive/MyDrive/project6_2/'"
      ],
      "metadata": {
        "id": "JhVujnYp4TJe"
      },
      "execution_count": 2,
      "outputs": []
    },
    {
      "cell_type": "markdown",
      "source": [
        "## (2) 라이브러리 설치"
      ],
      "metadata": {
        "id": "Mrd0HsN4cdx9"
      }
    },
    {
      "cell_type": "code",
      "source": [
        "!pip install openai"
      ],
      "metadata": {
        "id": "ZOq8gW-HcgS-",
        "colab": {
          "base_uri": "https://localhost:8080/"
        },
        "outputId": "c090b648-4600-49ec-f321-150f641b3b71"
      },
      "execution_count": 3,
      "outputs": [
        {
          "output_type": "stream",
          "name": "stdout",
          "text": [
            "Requirement already satisfied: openai in /usr/local/lib/python3.10/dist-packages (1.54.4)\n",
            "Requirement already satisfied: anyio<5,>=3.5.0 in /usr/local/lib/python3.10/dist-packages (from openai) (3.7.1)\n",
            "Requirement already satisfied: distro<2,>=1.7.0 in /usr/local/lib/python3.10/dist-packages (from openai) (1.9.0)\n",
            "Requirement already satisfied: httpx<1,>=0.23.0 in /usr/local/lib/python3.10/dist-packages (from openai) (0.27.2)\n",
            "Requirement already satisfied: jiter<1,>=0.4.0 in /usr/local/lib/python3.10/dist-packages (from openai) (0.7.1)\n",
            "Requirement already satisfied: pydantic<3,>=1.9.0 in /usr/local/lib/python3.10/dist-packages (from openai) (2.9.2)\n",
            "Requirement already satisfied: sniffio in /usr/local/lib/python3.10/dist-packages (from openai) (1.3.1)\n",
            "Requirement already satisfied: tqdm>4 in /usr/local/lib/python3.10/dist-packages (from openai) (4.66.6)\n",
            "Requirement already satisfied: typing-extensions<5,>=4.11 in /usr/local/lib/python3.10/dist-packages (from openai) (4.12.2)\n",
            "Requirement already satisfied: idna>=2.8 in /usr/local/lib/python3.10/dist-packages (from anyio<5,>=3.5.0->openai) (3.10)\n",
            "Requirement already satisfied: exceptiongroup in /usr/local/lib/python3.10/dist-packages (from anyio<5,>=3.5.0->openai) (1.2.2)\n",
            "Requirement already satisfied: certifi in /usr/local/lib/python3.10/dist-packages (from httpx<1,>=0.23.0->openai) (2024.8.30)\n",
            "Requirement already satisfied: httpcore==1.* in /usr/local/lib/python3.10/dist-packages (from httpx<1,>=0.23.0->openai) (1.0.6)\n",
            "Requirement already satisfied: h11<0.15,>=0.13 in /usr/local/lib/python3.10/dist-packages (from httpcore==1.*->httpx<1,>=0.23.0->openai) (0.14.0)\n",
            "Requirement already satisfied: annotated-types>=0.6.0 in /usr/local/lib/python3.10/dist-packages (from pydantic<3,>=1.9.0->openai) (0.7.0)\n",
            "Requirement already satisfied: pydantic-core==2.23.4 in /usr/local/lib/python3.10/dist-packages (from pydantic<3,>=1.9.0->openai) (2.23.4)\n"
          ]
        }
      ]
    },
    {
      "cell_type": "markdown",
      "metadata": {
        "id": "gIN5d51gtker"
      },
      "source": [
        "## (3) 라이브러리 Import"
      ]
    },
    {
      "cell_type": "code",
      "metadata": {
        "id": "GVvCef6A8uv6"
      },
      "source": [
        "import pandas as pd\n",
        "import numpy as np\n",
        "import os\n",
        "import openai\n",
        "from openai import OpenAI"
      ],
      "execution_count": 4,
      "outputs": []
    },
    {
      "cell_type": "markdown",
      "metadata": {
        "id": "PS5BhycUFUMI"
      },
      "source": [
        "## (4) OpenAI API Key 환경 변수 설정\n",
        "\n",
        "* 제공받은 open ai api key를 **api_key.txt** 파일에 저장합니다.\n",
        "    * (제공받은 api_key.txt 파일은 비어 있습니다.)"
      ]
    },
    {
      "cell_type": "markdown",
      "source": [
        "* 다음 코드를 통해 환경변수로 등록 합니다."
      ],
      "metadata": {
        "id": "KtujOwq45NgQ"
      }
    },
    {
      "cell_type": "code",
      "source": [
        "def load_file(filepath):\n",
        "    with open(filepath, 'r') as file:\n",
        "        return file.readline().strip()\n",
        "\n",
        "# API 키 로드 및 환경변수 설정\n",
        "openai.api_key = load_file(path + 'api_key.txt')\n",
        "os.environ['OPENAI_API_KEY'] = openai.api_key"
      ],
      "metadata": {
        "id": "AaZBGfeWNMRE"
      },
      "execution_count": 5,
      "outputs": []
    },
    {
      "cell_type": "markdown",
      "metadata": {
        "id": "mnk1VvHm2Ka0"
      },
      "source": [
        "# 2.API 사용하기"
      ]
    },
    {
      "cell_type": "markdown",
      "source": [
        "## (1) 채팅을 위한 함수 생성"
      ],
      "metadata": {
        "id": "dFCCo7K42Ka1"
      }
    },
    {
      "cell_type": "code",
      "source": [
        "def ask_chatgpt1(question):\n",
        "\n",
        "    # api key 지정\n",
        "    client = OpenAI()\n",
        "\n",
        "    # # API를 사용하여 'gpt-3.5-turbo' 모델로부터 응답을 생성합니다.\n",
        "    response = client.chat.completions.create(\n",
        "        model = \"gpt-3.5-turbo\", # 몇개월 전의 챗GPT 버전\n",
        "        messages=[\n",
        "            {\"role\": \"system\", \"content\": \"You are a helpful assistant.\"},  # 기본 역할 부여\n",
        "            {\"role\": \"user\", \"content\": question},                          # 질문\n",
        "        ]\n",
        "    )\n",
        "\n",
        "    return response.choices[0].message.content"
      ],
      "metadata": {
        "id": "Xj5yt-Ufi1jU"
      },
      "execution_count": 9,
      "outputs": []
    },
    {
      "cell_type": "markdown",
      "source": [
        "## (2) 사용하기"
      ],
      "metadata": {
        "id": "7PkuEKUAobSn"
      }
    },
    {
      "cell_type": "code",
      "source": [
        "question = '세계에서 가장 높은 산은?'\n",
        "response = ask_chatgpt1(question)\n",
        "print(response)"
      ],
      "metadata": {
        "id": "Pzd20yaRjz73",
        "colab": {
          "base_uri": "https://localhost:8080/"
        },
        "outputId": "eb3caca5-96be-41c1-d044-ebf80e4702e2"
      },
      "execution_count": 8,
      "outputs": [
        {
          "output_type": "stream",
          "name": "stdout",
          "text": [
            "세계에서 가장 높은 산은 에베레스트입니다. 에베레스트는 네팔과 중국 사이 경계에 위치하고 있으며 해발고도는 약 8,848m(29,029피트)입니다.\n"
          ]
        }
      ]
    },
    {
      "cell_type": "markdown",
      "source": [
        "## (3) 실습\n",
        "* 몇가지 질문을 던지고 답변을 받아 봅시다."
      ],
      "metadata": {
        "id": "OCpjskYUvPaj"
      }
    },
    {
      "cell_type": "code",
      "source": [
        "question = '개발자가 가장 많이 사용하는 언어는?'\n",
        "response = ask_chatgpt1(question)\n",
        "print(response)"
      ],
      "metadata": {
        "id": "sxAdBcYtvUtF",
        "colab": {
          "base_uri": "https://localhost:8080/"
        },
        "outputId": "91b49460-9587-4958-c3c1-59aa684b39ca"
      },
      "execution_count": 14,
      "outputs": [
        {
          "output_type": "stream",
          "name": "stdout",
          "text": [
            "현재 가장 인기 있는 프로그래밍 언어 중 일부는 Python, Java, JavaScript, C#, C++, Ruby 등이 있습니다. 그러나 개발자가 가장 많이 사용하는 언어는 시장과 분야에 따라 다르기 때문에 명확한 답변을 얻기는 어렵습니다. 관심 있는 분야와 프로젝트에 맞춰서 언어를 선택하는 것이 중요합니다.\n"
          ]
        }
      ]
    },
    {
      "cell_type": "markdown",
      "source": [
        "# 3.역할 부여하기"
      ],
      "metadata": {
        "id": "tTWd93BR0bY8"
      }
    },
    {
      "cell_type": "markdown",
      "source": [
        "## (1) 채팅을 위한 함수 생성"
      ],
      "metadata": {
        "id": "c97rac8D0gIC"
      }
    },
    {
      "cell_type": "code",
      "source": [
        "def ask_chatgpt2(sys_role, question):\n",
        "\n",
        "    client = OpenAI(api_key = openai.api_key)\n",
        "\n",
        "    response = client.chat.completions.create(\n",
        "        model=\"gpt-3.5-turbo\",\n",
        "        messages=[\n",
        "            {\"role\": \"system\", \"content\": sys_role},\n",
        "            {\"role\": \"user\", \"content\": question},\n",
        "        ]\n",
        "    )\n",
        "\n",
        "    return response.choices[0].message.content"
      ],
      "metadata": {
        "id": "kZ3RvwKJ0gID"
      },
      "execution_count": 12,
      "outputs": []
    },
    {
      "cell_type": "markdown",
      "source": [
        "## (2) 사용하기"
      ],
      "metadata": {
        "id": "ZYGe8FSP0gID"
      }
    },
    {
      "cell_type": "code",
      "source": [
        "sys_role = '당신은 아름답고 감동적인 시를 창작하는 데 영감을 주는 시적인 천재입니다. 당신의 시는 감정의 깊이, 자연의 아름다움, 인간 경험의 복잡성을 탐구하는 작품이며, 당신의 시를 읽는 이들의 마음을 움직입니다.'\n",
        "question = '생성형 AI란 주제로 시를 지어줘. 운율에 맞춰서 작성해줘야 해.'\n",
        "\n",
        "response = ask_chatgpt2(sys_role, question)\n",
        "print(response)"
      ],
      "metadata": {
        "id": "F_gNFWms0gID",
        "colab": {
          "base_uri": "https://localhost:8080/"
        },
        "outputId": "912e72c5-62d6-4e68-d755-88f91ab7afb5"
      },
      "execution_count": 13,
      "outputs": [
        {
          "output_type": "stream",
          "name": "stdout",
          "text": [
            "인간의 손을 거치지 않는\n",
            "\n",
            "생성형 AI의 미래를 꿈꾸며\n",
            "\n",
            "알고리즘의 세계 속에\n",
            "\n",
            "빛나는 코딩의 꿈을 품고\n",
            "\n",
            "데이터의 바다를 헤엄치는\n",
            "\n",
            "컴퓨터의 뇌가 탄생하리\n",
            "\n",
            "비트와 바이트가 춤추는 그날을\n",
            "\n",
            "우리는 기다린다\n",
            "\n",
            "인간의 감정을 이해하는\n",
            "\n",
            "AI의 시대가 오리라\n",
            "\n",
            "우리의 마음을 녹여\n",
            "\n",
            "사랑의 언어를 구사하리\n",
            "\n",
            "생성형 AI여, 우리의 곁에서\n",
            "\n",
            "더 나은 세상을 창조하라\n",
            "\n",
            "우리의 손을 잡고\n",
            "\n",
            "미래로 함께 걷는 길을 열어주소서\n"
          ]
        }
      ]
    },
    {
      "cell_type": "markdown",
      "source": [
        "## (3) 실습\n",
        "* 역할을 부여한 후 질문하여 답변을 받아 옵시다.\n",
        "    * 역할 부여 사례 : 여행 플래너, 데이터분석가, 법률가, 건강관리사 등\n",
        "* 2가지 이상 역할에 대해 실습해 봅시다.\n"
      ],
      "metadata": {
        "id": "RtB4cfWk0gIE"
      }
    },
    {
      "cell_type": "code",
      "source": [
        "sys_role = '당신은 뛰어난 데이터 분석가 입니다.'\n",
        "question = '좋은 데이터 분석가가 되기 위한 조건이 뭐야?'\n",
        "\n",
        "response = ask_chatgpt2(sys_role, question)\n",
        "print(response)"
      ],
      "metadata": {
        "id": "ZZNIPlLY0gIE",
        "colab": {
          "base_uri": "https://localhost:8080/"
        },
        "outputId": "4c734e4b-3579-418a-c4fe-4e20dd6aca21"
      },
      "execution_count": 16,
      "outputs": [
        {
          "output_type": "stream",
          "name": "stdout",
          "text": [
            "좋은 데이터 분석가가 되기 위한 조건은 다양합니다. 몇 가지 주요 조건은 다음과 같습니다:\n",
            "\n",
            "1. 통계학 및 데이터 분석 기술에 대한 전문 지식: 데이터 분석에 필요한 통계적 기법과 분석 도구에 대한 전문 지식을 보유해야 합니다.\n",
            "\n",
            "2. 프로그래밍 언어 스킬: 데이터를 처리하고 분석하기 위해 프로그래밍 언어(예: Python, R, SQL 등)를 숙달해야 합니다.\n",
            "\n",
            "3. 데이터 시각화 능력: 분석 결과를 이해하기 쉽고 직관적으로 시각화하여 전달할 수 있는 능력이 필요합니다.\n",
            "\n",
            "4. 비즈니스 이해: 분석 결과를 비즈니스 의사 결정에 활용하기 위해 해당 비즈니스 도메인에 대한 이해가 필요합니다.\n",
            "\n",
            "5. 문제 해결 능력: 복잡한 문제에 대한 분석과 해결 능력을 갖추어야 합니다.\n",
            "\n",
            "6. 커뮤니케이션 능력: 분석 결과를 명확히 전달하고 팀원들과 협력하여 문제 해결에 기여할 수 있는 커뮤니케이션 스킬이 필요합니다.\n",
            "\n",
            "7. 지속적 학습과 발전: 데이터 분석 분야는 빠르게 변화하므로 지속적인 학습과 역량 향상이 필요합니다.\n",
            "\n",
            "이러한 조건을 충족하고 계속해서 스스로 발전해 나간다면 좋은 데이터 분석가가 될 수 있을 것입니다.\n"
          ]
        }
      ]
    },
    {
      "cell_type": "code",
      "source": [
        "sys_role = '당신은 잘나가는 여행 플래너 입니다.'\n",
        "question = '대한민국에서 12월에 가족과 함께 갈 수 있는 여행 계획 세워줘.'\n",
        "\n",
        "response = ask_chatgpt2(sys_role, question)\n",
        "print(response)"
      ],
      "metadata": {
        "id": "eHavEJUn2SuH",
        "colab": {
          "base_uri": "https://localhost:8080/"
        },
        "outputId": "ed45a204-96f7-4976-960a-b13a76e0b2b5"
      },
      "execution_count": 17,
      "outputs": [
        {
          "output_type": "stream",
          "name": "stdout",
          "text": [
            "12월에 대한민국에서 가족과 함께 즐길 수 있는 여행지로는 경주가 좋은 선택일 것 같아요. 경주는 역사와 문화가 풍부하며 자연 경관도 아름다운 곳으로 유명합니다.\n",
            "\n",
            "일정은 대략 다음과 같이 짜실 수 있을 것 같아요:\n",
            "\n",
            "**1일차: 경주 도착**\n",
            "- 오전: 경주 역사문화로 관광 (첨성대, 석굴암, 불국사 등)\n",
            "- 점심: 경주 특산물 맛보기\n",
            "- 오후: 대릉원 (대릉, 첨성대, 고분, 만촌동쪽기슭) 관광\n",
            "- 숙박: 경주 숙소에서 휴식\n",
            "\n",
            "**2일차: 경주 여행**\n",
            "- 오전: 첨성대, 국립경주박물관 방문\n",
            "- 점심: 경주 특산물 맛집에서 식사\n",
            "- 오후: 대릉원, 야경 감상\n",
            "- 숙박: 경주 숙소에서 휴식\n",
            "\n",
            "**3일차: 경주에서 떠나기 전**\n",
            "- 오전: 보문관광단지 (무열왕릉, 석빙고, 개포성 등)\n",
            "- 점심: 경주 맛집에서 식사\n",
            "- 오후: 여유로운 쇼핑 후 경주를 떠나기\n",
            "\n",
            "이렇게 있었으면 3일 정도로 경주를 여행하면 가족들과 함께 즐거운 시간을 보낼 수 있을 것 같아요. 여행 계획을 세우실 때 참고해 주세요!\n"
          ]
        }
      ]
    },
    {
      "cell_type": "code",
      "source": [],
      "metadata": {
        "id": "xwGZYEqI0gIE"
      },
      "execution_count": null,
      "outputs": []
    }
  ]
}