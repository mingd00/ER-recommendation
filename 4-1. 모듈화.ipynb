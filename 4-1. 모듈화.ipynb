{
  "cells": [
    {
      "cell_type": "markdown",
      "metadata": {
        "colab_type": "text",
        "id": "view-in-github"
      },
      "source": [
        "<a href=\"https://colab.research.google.com/github/mingd00/aivle-miniproj6/blob/main/2%EC%B0%A8.%20%EC%9D%91%EA%B8%89%EC%83%81%ED%99%A9%20%EC%9D%B8%EC%8B%9D%20%EB%B0%8F%20%EC%9D%91%EA%B8%89%EC%8B%A4%20%EC%97%B0%EA%B3%84/4-1.%20%EB%AA%A8%EB%93%88%ED%99%94.ipynb\" target=\"_parent\"><img src=\"https://colab.research.google.com/assets/colab-badge.svg\" alt=\"Open In Colab\"/></a>"
      ]
    },
    {
      "cell_type": "markdown",
      "metadata": {
        "id": "4p06IPOk5xil"
      },
      "source": [
        "# **응급상황 자동 인식 및 응급실 연계 서비스**\n",
        "### **모듈화**"
      ]
    },
    {
      "cell_type": "markdown",
      "metadata": {
        "id": "76Pw6f64d5VU"
      },
      "source": [
        "## **1.환경설정**"
      ]
    },
    {
      "cell_type": "markdown",
      "metadata": {
        "id": "1is0ZmzXeBrA"
      },
      "source": [
        "- 구글 드라이브 연결"
      ]
    },
    {
      "cell_type": "code",
      "execution_count": 5,
      "metadata": {
        "colab": {
          "base_uri": "https://localhost:8080/"
        },
        "id": "kOfI9W-Kc8eF",
        "outputId": "0bce3eb3-7b51-459e-adaf-13fd218fbf53"
      },
      "outputs": [
        {
          "name": "stdout",
          "output_type": "stream",
          "text": [
            "Drive already mounted at /content/drive; to attempt to forcibly remount, call drive.mount(\"/content/drive\", force_remount=True).\n"
          ]
        }
      ],
      "source": [
        "from google.colab import drive\n",
        "drive.mount('/content/drive')"
      ]
    },
    {
      "cell_type": "code",
      "execution_count": 6,
      "metadata": {
        "id": "JhVujnYp4TJe"
      },
      "outputs": [],
      "source": [
        "path = '/content/drive/MyDrive/project6_2/'"
      ]
    },
    {
      "cell_type": "markdown",
      "metadata": {
        "id": "9U7SbaB7cSSx"
      },
      "source": [
        "## **2.모듈 구성**"
      ]
    },
    {
      "cell_type": "code",
      "execution_count": 7,
      "metadata": {
        "colab": {
          "base_uri": "https://localhost:8080/"
        },
        "id": "HAyk26O8bFQJ",
        "outputId": "bf5e1c1f-17a4-446f-c794-7c962b363fb4"
      },
      "outputs": [
        {
          "name": "stdout",
          "output_type": "stream",
          "text": [
            "Overwriting /content/drive/MyDrive/project6_2/emergency.py\n"
          ]
        }
      ],
      "source": [
        "%%writefile /content/drive/MyDrive/project6_2/emergency.py\n",
        "\n",
        "import os\n",
        "import requests\n",
        "import xml.etree.ElementTree as ET\n",
        "import pandas as pd\n",
        "import openai\n",
        "from openai import OpenAI\n",
        "import json\n",
        "import torch\n",
        "\n",
        "# 0. load key file------------------\n",
        "def load_keys(path):\n",
        "  with open(path, 'r') as file:\n",
        "    return file.readline().strip()\n",
        "\n",
        "\n",
        "# 1-1 audio2text--------------------\n",
        "def audio2text(audio_path, filename):\n",
        "    client = OpenAI()\n",
        "\n",
        "    audio_file = open(audio_path + filename, \"rb\")\n",
        "    transcript = client.audio.transcriptions.create(\n",
        "        file=audio_file,\n",
        "        model=\"whisper-1\",\n",
        "        language=\"ko\",\n",
        "        response_format=\"text\",\n",
        "    )\n",
        "\n",
        "    return transcript\n",
        "\n",
        "\n",
        "# 1-2 text2summary------------------\n",
        "def text2summary(system_role, input_text):\n",
        "    client = OpenAI()\n",
        "    system_role = '당신은 입력된 텍스트를 가장 간결하고 핵심적인 표현으로 요약하는 어시스턴트입니다. 불필요한 설명을 생략하고 핵심적인 정보를 짧은 문장으로 요약하세요.'\n",
        "\n",
        "    response = client.chat.completions.create(\n",
        "        model=\"gpt-3.5-turbo\",\n",
        "        messages=[\n",
        "            {\n",
        "                \"role\": \"system\",\n",
        "                \"content\": system_role\n",
        "            },\n",
        "            {\n",
        "                \"role\": \"user\",\n",
        "                \"content\": f'\"{input_text}\" 어떤 상황인지 알 수 있게 문장자체를 요약해줘'\n",
        "            }\n",
        "        ]\n",
        "    )\n",
        "\n",
        "    return response.choices[0].message.content\n",
        "\n",
        "\n",
        "# 2. model prediction------------------\n",
        "def predict(text, model, tokenizer, device):\n",
        "    # 입력 문장 토크나이징\n",
        "    inputs = tokenizer(text, return_tensors=\"pt\", truncation=True, padding=True)\n",
        "    inputs = {key: value.to(device) for key, value in inputs.items()}  # 각 텐서를 GPU로 이동\n",
        "\n",
        "    # 모델 예측\n",
        "    model.eval()\n",
        "    with torch.no_grad():\n",
        "        outputs = model(**inputs)\n",
        "\n",
        "    # 로짓을 소프트맥스로 변환하여 확률 계산\n",
        "    logits = outputs.logits\n",
        "    probabilities = logits.softmax(dim=1)\n",
        "\n",
        "    # 가장 높은 확률을 가진 클래스 선택\n",
        "    pred = torch.argmax(probabilities, dim=-1).item()\n",
        "\n",
        "    return pred, probabilities\n",
        "\n",
        "\n",
        "# 3-1. get_distance------------------\n",
        "def get_dist(start_lat, start_lng, dest_lat, dest_lng, c_id, c_key):\n",
        "    url = \"https://naveropenapi.apigw.ntruss.com/map-direction/v1/driving\"\n",
        "    headers = {\n",
        "        \"X-NCP-APIGW-API-KEY-ID\": c_id,\n",
        "        \"X-NCP-APIGW-API-KEY\": c_key,\n",
        "    }\n",
        "    params = {\n",
        "        \"start\": f\"{start_lng},{start_lat}\",  # 출발지 (경도, 위도)\n",
        "        \"goal\": f\"{dest_lng},{dest_lat}\",    # 목적지 (경도, 위도)\n",
        "        \"option\": \"trafast\"  # 실시간 빠른 길 옵션\n",
        "    }\n",
        "\n",
        "    # 요청하고, 답변 받아오기\n",
        "    response = requests.get(url, params, headers=headers)\n",
        "    response = response.json()\n",
        "\n",
        "    if response['code'] == 1:\n",
        "        dist = 0\n",
        "    elif response['code'] == 0:\n",
        "        # 'route' 키가 있는지 확인 후 접근\n",
        "        if 'route' in response and 'trafast' in response['route']:\n",
        "            dist = response['route']['trafast'][0]['summary']['distance']  # m(미터)\n",
        "        else:\n",
        "            print(\"No route found in the response.\")\n",
        "            dist = None  # 또는 기본값을 반환할 수 있음\n",
        "    else:\n",
        "        print(f\"Unexpected response code: {response['code']}\")\n",
        "        dist = None\n",
        "\n",
        "    return dist\n",
        "\n",
        "\n",
        "# 3-2. recommendation------------------\n",
        "def recommend_hospital(data, lat, lng, range, c_id, c_key) :\n",
        "  li = []\n",
        "\n",
        "  # 특정 범위 데이터만 추출\n",
        "  filtered_data = data[data['위도'].between(lat - range, lat + range) & data['경도'].between(lng - range, lng + range)].copy()\n",
        "\n",
        "  # 각 병원까지의 거리를 계산하여 컬럼 생성\n",
        "  for d in filtered_data.iterrows():\n",
        "    li.append([d[1]['병원이름'], get_dist(lat, lng, d[1]['위도'], d[1]['경도'], c_id, c_key)])\n",
        "\n",
        "  # 상위 3개 추출\n",
        "  li = sorted(li, key=lambda x: (x[1]))[:3]\n",
        "  return li"
      ]
    },
    {
      "cell_type": "code",
      "execution_count": null,
      "metadata": {
        "id": "2dBNhNPGRZWx"
      },
      "outputs": [],
      "source": []
    }
  ],
  "metadata": {
    "colab": {
      "include_colab_link": true,
      "provenance": []
    },
    "kernelspec": {
      "display_name": "Python 3",
      "name": "python3"
    },
    "language_info": {
      "name": "python"
    }
  },
  "nbformat": 4,
  "nbformat_minor": 0
}
