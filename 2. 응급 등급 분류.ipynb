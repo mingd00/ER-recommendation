{
  "cells": [
    {
      "cell_type": "markdown",
      "metadata": {
        "colab_type": "text",
        "id": "view-in-github"
      },
      "source": [
        "<a href=\"https://colab.research.google.com/github/mingd00/aivle-miniproj6/blob/main/2%EC%B0%A8.%20%EC%9D%91%EA%B8%89%EC%83%81%ED%99%A9%20%EC%9D%B8%EC%8B%9D%20%EB%B0%8F%20%EC%9D%91%EA%B8%89%EC%8B%A4%20%EC%97%B0%EA%B3%84/2.%20%EC%9D%91%EA%B8%89%20%EB%93%B1%EA%B8%89%20%EB%B6%84%EB%A5%98.ipynb\" target=\"_parent\"><img src=\"https://colab.research.google.com/assets/colab-badge.svg\" alt=\"Open In Colab\"/></a>"
      ]
    },
    {
      "cell_type": "markdown",
      "metadata": {
        "id": "4p06IPOk5xil"
      },
      "source": [
        "# **응급상황 자동 인식 및 응급실 연계 서비스**\n",
        "### **응급 등급 분류 모델 생성**"
      ]
    },
    {
      "cell_type": "markdown",
      "metadata": {
        "id": "hGGC3Ev4G9O8"
      },
      "source": [
        "#### BERT 모델 파인튜닝\n",
        "|text|label|\n",
        "|----|----|\n",
        "|GPT모델의 출력 형태. 응급상황 내용 | 응급등급(1~5)|\n",
        "\n",
        "\n",
        "- 하이퍼 파라미터\n",
        "    - epoch 수 : 5 ~ 20\n",
        "    - learning_rate : 1e-5 ~ 1e-2\n",
        "    - batch_size : 16 ~ 32\n",
        "    - weight_decay : 0.01 ~ 0.1"
      ]
    },
    {
      "cell_type": "markdown",
      "metadata": {},
      "source": [
        "## **1.환경설정**"
      ]
    },
    {
      "cell_type": "markdown",
      "metadata": {},
      "source": [
        "#### 1. 구글드라이브 연결"
      ]
    },
    {
      "cell_type": "code",
      "execution_count": null,
      "metadata": {},
      "outputs": [],
      "source": [
        "from google.colab import drive\n",
        "drive.mount('/content/drive')"
      ]
    },
    {
      "cell_type": "code",
      "execution_count": null,
      "metadata": {},
      "outputs": [],
      "source": [
        "path = '/content/drive/MyDrive/project6_2/'"
      ]
    },
    {
      "cell_type": "markdown",
      "metadata": {},
      "source": [
        "#### 2. 라이브러리"
      ]
    },
    {
      "cell_type": "code",
      "execution_count": null,
      "metadata": {
        "colab": {
          "base_uri": "https://localhost:8080/"
        },
        "id": "fAwELXTeI0dZ",
        "outputId": "29642b76-b3f4-4da6-be50-a8046b1ad73a"
      },
      "outputs": [
        {
          "name": "stdout",
          "output_type": "stream",
          "text": [
            "Requirement already satisfied: datasets in /usr/local/lib/python3.10/dist-packages (3.1.0)\n",
            "Requirement already satisfied: filelock in /usr/local/lib/python3.10/dist-packages (from datasets) (3.16.1)\n",
            "Requirement already satisfied: numpy>=1.17 in /usr/local/lib/python3.10/dist-packages (from datasets) (1.26.4)\n",
            "Requirement already satisfied: pyarrow>=15.0.0 in /usr/local/lib/python3.10/dist-packages (from datasets) (17.0.0)\n",
            "Requirement already satisfied: dill<0.3.9,>=0.3.0 in /usr/local/lib/python3.10/dist-packages (from datasets) (0.3.8)\n",
            "Requirement already satisfied: pandas in /usr/local/lib/python3.10/dist-packages (from datasets) (2.2.2)\n",
            "Requirement already satisfied: requests>=2.32.2 in /usr/local/lib/python3.10/dist-packages (from datasets) (2.32.3)\n",
            "Requirement already satisfied: tqdm>=4.66.3 in /usr/local/lib/python3.10/dist-packages (from datasets) (4.66.6)\n",
            "Requirement already satisfied: xxhash in /usr/local/lib/python3.10/dist-packages (from datasets) (3.5.0)\n",
            "Requirement already satisfied: multiprocess<0.70.17 in /usr/local/lib/python3.10/dist-packages (from datasets) (0.70.16)\n",
            "Requirement already satisfied: fsspec<=2024.9.0,>=2023.1.0 in /usr/local/lib/python3.10/dist-packages (from fsspec[http]<=2024.9.0,>=2023.1.0->datasets) (2024.9.0)\n",
            "Requirement already satisfied: aiohttp in /usr/local/lib/python3.10/dist-packages (from datasets) (3.11.1)\n",
            "Requirement already satisfied: huggingface-hub>=0.23.0 in /usr/local/lib/python3.10/dist-packages (from datasets) (0.26.2)\n",
            "Requirement already satisfied: packaging in /usr/local/lib/python3.10/dist-packages (from datasets) (24.2)\n",
            "Requirement already satisfied: pyyaml>=5.1 in /usr/local/lib/python3.10/dist-packages (from datasets) (6.0.2)\n",
            "Requirement already satisfied: aiohappyeyeballs>=2.3.0 in /usr/local/lib/python3.10/dist-packages (from aiohttp->datasets) (2.4.3)\n",
            "Requirement already satisfied: aiosignal>=1.1.2 in /usr/local/lib/python3.10/dist-packages (from aiohttp->datasets) (1.3.1)\n",
            "Requirement already satisfied: attrs>=17.3.0 in /usr/local/lib/python3.10/dist-packages (from aiohttp->datasets) (24.2.0)\n",
            "Requirement already satisfied: frozenlist>=1.1.1 in /usr/local/lib/python3.10/dist-packages (from aiohttp->datasets) (1.5.0)\n",
            "Requirement already satisfied: multidict<7.0,>=4.5 in /usr/local/lib/python3.10/dist-packages (from aiohttp->datasets) (6.1.0)\n",
            "Requirement already satisfied: propcache>=0.2.0 in /usr/local/lib/python3.10/dist-packages (from aiohttp->datasets) (0.2.0)\n",
            "Requirement already satisfied: yarl<2.0,>=1.17.0 in /usr/local/lib/python3.10/dist-packages (from aiohttp->datasets) (1.17.1)\n",
            "Requirement already satisfied: async-timeout<6.0,>=4.0 in /usr/local/lib/python3.10/dist-packages (from aiohttp->datasets) (4.0.3)\n",
            "Requirement already satisfied: typing-extensions>=3.7.4.3 in /usr/local/lib/python3.10/dist-packages (from huggingface-hub>=0.23.0->datasets) (4.12.2)\n",
            "Requirement already satisfied: charset-normalizer<4,>=2 in /usr/local/lib/python3.10/dist-packages (from requests>=2.32.2->datasets) (3.4.0)\n",
            "Requirement already satisfied: idna<4,>=2.5 in /usr/local/lib/python3.10/dist-packages (from requests>=2.32.2->datasets) (3.10)\n",
            "Requirement already satisfied: urllib3<3,>=1.21.1 in /usr/local/lib/python3.10/dist-packages (from requests>=2.32.2->datasets) (2.2.3)\n",
            "Requirement already satisfied: certifi>=2017.4.17 in /usr/local/lib/python3.10/dist-packages (from requests>=2.32.2->datasets) (2024.8.30)\n",
            "Requirement already satisfied: python-dateutil>=2.8.2 in /usr/local/lib/python3.10/dist-packages (from pandas->datasets) (2.8.2)\n",
            "Requirement already satisfied: pytz>=2020.1 in /usr/local/lib/python3.10/dist-packages (from pandas->datasets) (2024.2)\n",
            "Requirement already satisfied: tzdata>=2022.7 in /usr/local/lib/python3.10/dist-packages (from pandas->datasets) (2024.2)\n",
            "Requirement already satisfied: six>=1.5 in /usr/local/lib/python3.10/dist-packages (from python-dateutil>=2.8.2->pandas->datasets) (1.16.0)\n"
          ]
        }
      ],
      "source": [
        "!pip install datasets"
      ]
    },
    {
      "cell_type": "code",
      "execution_count": null,
      "metadata": {
        "id": "10SRXstychw7"
      },
      "outputs": [],
      "source": [
        "import numpy as np\n",
        "import pandas as pd\n",
        "import matplotlib.pyplot as plt\n",
        "import seaborn as sns\n",
        "\n",
        "import torch\n",
        "\n",
        "from transformers import AutoTokenizer, AutoModelForSequenceClassification, Trainer, TrainingArguments, EarlyStoppingCallback\n",
        "from datasets import load_dataset, Dataset\n",
        "\n",
        "from sklearn.model_selection import train_test_split\n",
        "from sklearn.metrics import *\n",
        "\n",
        "from warnings import filterwarnings\n",
        "FutureWarning\n",
        "filterwarnings('ignore')"
      ]
    },
    {
      "cell_type": "markdown",
      "metadata": {},
      "source": [
        "### 3) 함수 생성"
      ]
    },
    {
      "cell_type": "markdown",
      "metadata": {
        "id": "vJ0l9LTQJQa6"
      },
      "source": [
        "* evaluate : 모델 생성후, 데이터셋(예 : 검증셋)을 이용해서 모델 성능을 평가하기 위한 용도\n",
        "* predict :  하나의 문장을 입력받아, 예측결과를 반환"
      ]
    },
    {
      "cell_type": "code",
      "execution_count": null,
      "metadata": {
        "id": "0yxBIUaic_Vt"
      },
      "outputs": [],
      "source": [
        "# 검증셋 평가 함수\n",
        "def evaluate(val_ds, model, device, tokenizer):\n",
        "    # 입력 데이터셋 토크나이징 (attention_mask 포함)\n",
        "    inputs = tokenizer(val_ds['text'], return_tensors=\"pt\", padding=True,\n",
        "                       truncation=True, max_length=128\n",
        "    )\n",
        "    inputs = {key: value.to(device) for key, value in inputs.items()}  # 입력 텐서를 동일한 디바이스로 이동\n",
        "\n",
        "    # 모델을 지정된 디바이스로 이동\n",
        "    model = model.to(device)\n",
        "\n",
        "    with torch.no_grad():  # 평가 과정에서 기울기 계산 비활성화\n",
        "        outputs = model(**inputs)  # attention_mask를 포함해 입력\n",
        "\n",
        "    # 예측 및 확률 계산\n",
        "    probabilities = outputs.logits.softmax(dim=1)\n",
        "\n",
        "    # probabilities가 GPU에 있을 경우에만 CPU로 이동\n",
        "    if probabilities.is_cuda:\n",
        "        probabilities = probabilities.cpu().detach().numpy()\n",
        "    else:\n",
        "        probabilities = probabilities.detach().numpy()\n",
        "\n",
        "    pred = np.argmax(probabilities, axis=1)\n",
        "\n",
        "    # GPU 메모리에서 필요 없는 텐서 제거 및 캐시 정리\n",
        "    del inputs\n",
        "    torch.cuda.empty_cache()\n",
        "\n",
        "    return pred, probabilities"
      ]
    },
    {
      "cell_type": "code",
      "execution_count": null,
      "metadata": {
        "id": "-BMzvSF2mWG8"
      },
      "outputs": [],
      "source": [
        "# 데이터 예측 함수\n",
        "def predict(text, model, tokenizer):\n",
        "    # 입력 문장 토크나이징\n",
        "    inputs = tokenizer(text, return_tensors=\"pt\", truncation=True, padding=True)\n",
        "    inputs = {key: value.to(device) for key, value in inputs.items()}  # 각 텐서를 GPU로 이동\n",
        "\n",
        "    # 모델 예측\n",
        "    model.eval()\n",
        "    with torch.no_grad():\n",
        "        outputs = model(**inputs)\n",
        "\n",
        "    # 로짓을 소프트맥스로 변환하여 확률 계산\n",
        "    logits = outputs.logits\n",
        "    probabilities = logits.softmax(dim=1)\n",
        "\n",
        "    # 가장 높은 확률을 가진 클래스 선택\n",
        "    pred = torch.argmax(probabilities, dim=-1).item()\n",
        "\n",
        "    return pred, probabilities"
      ]
    },
    {
      "cell_type": "markdown",
      "metadata": {},
      "source": [
        "- 데이터 불러오기"
      ]
    },
    {
      "cell_type": "code",
      "execution_count": null,
      "metadata": {
        "colab": {
          "base_uri": "https://localhost:8080/",
          "height": 206
        },
        "id": "wLN6-795XhUV",
        "outputId": "fff2721d-ea42-4362-e726-4b6d51cc882a"
      },
      "outputs": [],
      "source": [
        "data = pd.read_csv(path + 'dataset.csv')"
      ]
    },
    {
      "cell_type": "markdown",
      "metadata": {
        "id": "PgllfIsmhzLO"
      },
      "source": [
        "* y 분포 확인하기"
      ]
    },
    {
      "cell_type": "code",
      "execution_count": null,
      "metadata": {
        "colab": {
          "base_uri": "https://localhost:8080/",
          "height": 467
        },
        "id": "ms4-0WD-h2ep",
        "outputId": "cc53c24a-a887-484a-e00f-a5b971d9b0a2"
      },
      "outputs": [
        {
          "data": {
            "text/plain": [
              "<Axes: xlabel='label', ylabel='count'>"
            ]
          },
          "execution_count": 97,
          "metadata": {},
          "output_type": "execute_result"
        },
        {
          "data": {
            "image/png": "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",
            "text/plain": [
              "<Figure size 640x480 with 1 Axes>"
            ]
          },
          "metadata": {},
          "output_type": "display_data"
        }
      ],
      "source": [
        "sns.countplot(x='label', data=data, hue='label')"
      ]
    },
    {
      "cell_type": "markdown",
      "metadata": {
        "id": "mBXDyiITimQP"
      },
      "source": [
        "* label 에 대한 정수 인코딩\n",
        "    * 정수 인코딩은 0 부터 시작해야 함."
      ]
    },
    {
      "cell_type": "code",
      "execution_count": null,
      "metadata": {
        "colab": {
          "base_uri": "https://localhost:8080/",
          "height": 272
        },
        "id": "00bFJ0DCNlUw",
        "outputId": "5b79a9c2-ee77-403f-81fa-e5314ec5f9de"
      },
      "outputs": [
        {
          "data": {
            "text/html": [
              "<div>\n",
              "<style scoped>\n",
              "    .dataframe tbody tr th:only-of-type {\n",
              "        vertical-align: middle;\n",
              "    }\n",
              "\n",
              "    .dataframe tbody tr th {\n",
              "        vertical-align: top;\n",
              "    }\n",
              "\n",
              "    .dataframe thead th {\n",
              "        text-align: right;\n",
              "    }\n",
              "</style>\n",
              "<table border=\"1\" class=\"dataframe\">\n",
              "  <thead>\n",
              "    <tr style=\"text-align: right;\">\n",
              "      <th></th>\n",
              "      <th>count</th>\n",
              "    </tr>\n",
              "    <tr>\n",
              "      <th>label</th>\n",
              "      <th></th>\n",
              "    </tr>\n",
              "  </thead>\n",
              "  <tbody>\n",
              "    <tr>\n",
              "      <th>0</th>\n",
              "      <td>120</td>\n",
              "    </tr>\n",
              "    <tr>\n",
              "      <th>1</th>\n",
              "      <td>120</td>\n",
              "    </tr>\n",
              "    <tr>\n",
              "      <th>2</th>\n",
              "      <td>120</td>\n",
              "    </tr>\n",
              "    <tr>\n",
              "      <th>3</th>\n",
              "      <td>120</td>\n",
              "    </tr>\n",
              "    <tr>\n",
              "      <th>4</th>\n",
              "      <td>120</td>\n",
              "    </tr>\n",
              "  </tbody>\n",
              "</table>\n",
              "</div><br><label><b>dtype:</b> int64</label>"
            ],
            "text/plain": [
              "label\n",
              "0    120\n",
              "1    120\n",
              "2    120\n",
              "3    120\n",
              "4    120\n",
              "Name: count, dtype: int64"
            ]
          },
          "execution_count": 98,
          "metadata": {},
          "output_type": "execute_result"
        }
      ],
      "source": [
        "from sklearn.preprocessing import LabelEncoder\n",
        "\n",
        "le = LabelEncoder()\n",
        "data['label'] = le.fit_transform(data['label'])\n",
        "data['label'].value_counts()"
      ]
    },
    {
      "cell_type": "markdown",
      "metadata": {
        "id": "kWP4SWAfK1J8"
      },
      "source": [
        "* 파이토치를 위한 GPU 설정"
      ]
    },
    {
      "cell_type": "code",
      "execution_count": null,
      "metadata": {
        "colab": {
          "base_uri": "https://localhost:8080/"
        },
        "id": "tWugkO6FK3qD",
        "outputId": "cafd4f21-25c7-44ed-cd35-1fecce70d18a"
      },
      "outputs": [
        {
          "data": {
            "text/plain": [
              "device(type='cuda')"
            ]
          },
          "execution_count": 99,
          "metadata": {},
          "output_type": "execute_result"
        }
      ],
      "source": [
        "# GPU 설정\n",
        "device = torch.device(\"cuda\" if torch.cuda.is_available() else \"cpu\")\n",
        "device"
      ]
    },
    {
      "cell_type": "markdown",
      "metadata": {
        "id": "bDFim9_47fGX"
      },
      "source": [
        "## 2.데이터 준비"
      ]
    },
    {
      "cell_type": "markdown",
      "metadata": {
        "id": "5HbtLQ5nLkAG"
      },
      "source": [
        "### (1) Dataset 만들기 : train, val"
      ]
    },
    {
      "cell_type": "code",
      "execution_count": null,
      "metadata": {
        "colab": {
          "base_uri": "https://localhost:8080/"
        },
        "id": "lDTUpdJJLpb4",
        "outputId": "f3bbf5bd-341f-4590-f794-412ae49a90cd"
      },
      "outputs": [
        {
          "data": {
            "text/plain": [
              "{'text': ['심한 흉통과 호흡 곤란을 겪고 있는 환자',\n",
              "  '환자가 경련을 일으키며 몸이 떨리고 혼란스러운 상태',\n",
              "  '급성 중심성 경증 통증(<4)을 경험하는 환자이며, 통증이 경미합니다.',\n",
              "  '약간의 속 쓰림을 느끼지만 특별히 신경 쓰지 않는 상태',\n",
              "  '급성 심장마비 의심 환자'],\n",
              " 'label': [1, 0, 3, 4, 1],\n",
              " '__index_level_0__': [145, 9, 375, 523, 188]}"
            ]
          },
          "execution_count": 100,
          "metadata": {},
          "output_type": "execute_result"
        }
      ],
      "source": [
        "# 데이터셋 분할\n",
        "train, val = train_test_split(data, test_size=0.2, random_state=42)\n",
        "\n",
        "# 텐서 데이터셋\n",
        "train_ds = Dataset.from_pandas(train)\n",
        "val_ds = Dataset.from_pandas(val)\n",
        "\n",
        "train_ds[:5]"
      ]
    },
    {
      "cell_type": "markdown",
      "metadata": {
        "id": "o2g6VD1O7qA6"
      },
      "source": [
        "### (2) 토큰화\n",
        "\n",
        "* 사용할 모델(\"klue/bert-base\")의 토크나이저를 저장"
      ]
    },
    {
      "cell_type": "code",
      "execution_count": null,
      "metadata": {
        "id": "WXHiqVHdK6fN"
      },
      "outputs": [],
      "source": [
        "# 모델과 토크나이저 불러오기\n",
        "model_name = \"klue/bert-base\"\n",
        "tokenizer = AutoTokenizer.from_pretrained(model_name)"
      ]
    },
    {
      "cell_type": "code",
      "execution_count": null,
      "metadata": {
        "colab": {
          "base_uri": "https://localhost:8080/",
          "height": 81,
          "referenced_widgets": [
            "875dbd7224ab4014b7398052e6b26beb",
            "3b646ee2ca9d4f9f8e794800dca9142d",
            "aabce1ca48e84222a6e3180648df0ea8",
            "84a27cab99924e0985afd62cc3668688",
            "f9e8f9c078634bb585e89cd0cadcd07b",
            "eb9cab9d948045458cc5634d890890fa",
            "5b71abfd19ad4dd0bf1b0967686e552f",
            "e77a58c9ce2d4a4db0675b6ca3b7af93",
            "ee19acba778a4e9cb9cf7788b5eab84f",
            "bf21248ac88b452f842679635875f9ee",
            "be94b469f0e24be1a308d2bf8b5270ea",
            "91442f0258004ac6b06e048916d99ee1",
            "3ae9749c4b994450b080a526cefab5f1",
            "fb8db66f4f314409b25316eccb08bc47",
            "3edf3f9a9868454f88c2ef667bce721a",
            "734115c417814336b09aaee087812b94",
            "885c9f1316e04df38a4870c6d666d63c",
            "b85f90927537415cab38341d56f3bad8",
            "ec0eefdf9e8d414895f632dba715a7d8",
            "6c089beb9ced47459bd61ad1de3000da",
            "2d1ef586d3884cdf912059140516754e",
            "b7ba257cbf5a4af1879ebf4e1b3472b4"
          ]
        },
        "id": "vmpoI7iBLCk1",
        "outputId": "7d09211f-21f7-4988-c485-9d8cc917187d"
      },
      "outputs": [
        {
          "data": {
            "application/vnd.jupyter.widget-view+json": {
              "model_id": "875dbd7224ab4014b7398052e6b26beb",
              "version_major": 2,
              "version_minor": 0
            },
            "text/plain": [
              "Map:   0%|          | 0/480 [00:00<?, ? examples/s]"
            ]
          },
          "metadata": {},
          "output_type": "display_data"
        },
        {
          "data": {
            "application/vnd.jupyter.widget-view+json": {
              "model_id": "91442f0258004ac6b06e048916d99ee1",
              "version_major": 2,
              "version_minor": 0
            },
            "text/plain": [
              "Map:   0%|          | 0/120 [00:00<?, ? examples/s]"
            ]
          },
          "metadata": {},
          "output_type": "display_data"
        }
      ],
      "source": [
        "# 토큰화 함수 생성 및 적용\n",
        "def preprocess_function(data):\n",
        "  return tokenizer(data['text'], truncation=True, padding=True)\n",
        "\n",
        "train_ds = train_ds.map(preprocess_function, batched=True)\n",
        "val_ds = val_ds.map(preprocess_function, batched=True)"
      ]
    },
    {
      "cell_type": "markdown",
      "metadata": {
        "id": "xXcuja2rMUsO"
      },
      "source": [
        "## 3.Fine-Tuning"
      ]
    },
    {
      "cell_type": "markdown",
      "metadata": {
        "id": "NhsuEjXcMSoi"
      },
      "source": [
        "### (1) 사전학습 모델 준비\n",
        "* 사용할 모델(\"klue/bert-base\")의 토크나이저를 저장\n",
        "* 이때, 출력층 노드 수를 지정합니다."
      ]
    },
    {
      "cell_type": "code",
      "execution_count": null,
      "metadata": {
        "colab": {
          "base_uri": "https://localhost:8080/"
        },
        "id": "oujW5VFb7gux",
        "outputId": "90a7ccde-f971-4b47-927f-dfea0b5d7e35"
      },
      "outputs": [
        {
          "name": "stderr",
          "output_type": "stream",
          "text": [
            "Some weights of BertForSequenceClassification were not initialized from the model checkpoint at klue/bert-base and are newly initialized: ['classifier.bias', 'classifier.weight']\n",
            "You should probably TRAIN this model on a down-stream task to be able to use it for predictions and inference.\n"
          ]
        }
      ],
      "source": [
        "# 모델 설정 (다중 분류를 위해 num_labels 지정)\n",
        "n = 5\n",
        "model = AutoModelForSequenceClassification.from_pretrained(model_name, num_labels=n)"
      ]
    },
    {
      "cell_type": "markdown",
      "metadata": {
        "id": "SNAuKwuWMoGr"
      },
      "source": [
        "### (2) 학습\n",
        "* 절차\n",
        "    * TrainArguments 설정\n",
        "        * 조정할 하이퍼파라미터 : learning_rate, batch_size, epochs, weight_decay 등\n",
        "        * 나머지 옵션은 손 대지 맙시다.\n",
        "    * Trainer 설정\n",
        "    * 학습\n",
        "* 성능 : 데이터, 하이퍼파라미터에 의해 결정"
      ]
    },
    {
      "cell_type": "code",
      "execution_count": null,
      "metadata": {
        "id": "tAi9MA_iHOma"
      },
      "outputs": [],
      "source": [
        "# TrainingArguments\n",
        "\n",
        "lr = 1e-5             # <-- [조정가능]학습률\n",
        "batch_size = 16       # <-- [조정가능]평가 배치 사이즈\n",
        "epochs = 20           # <-- [조정가능]에폭 수\n",
        "\n",
        "training_args = TrainingArguments(\n",
        "    output_dir = './results',          # 출력 디렉토리\n",
        "    eval_strategy = \"epoch\",            # 에폭마다 평가\n",
        "    save_strategy = \"epoch\",           # 에폭마다 체크포인트 저장\n",
        "    learning_rate = lr,\n",
        "    per_device_train_batch_size = batch_size,\n",
        "    per_device_eval_batch_size = batch_size,\n",
        "    num_train_epochs  = epochs,\n",
        "    weight_decay = 0.02,               # <--[조정가능]weight decay\n",
        "    load_best_model_at_end = True,     # 가장 좋은 모델을 마지막에 로드\n",
        "    logging_dir ='./logs',            # 로깅 디렉토리\n",
        "    logging_steps = 10,                # 로깅 스텝\n",
        "    report_to=\"tensorboard\"          # TensorBoard에 로깅\n",
        ")"
      ]
    },
    {
      "cell_type": "code",
      "execution_count": null,
      "metadata": {
        "id": "K6Tcims1J_Bb"
      },
      "outputs": [],
      "source": [
        "# Trainer 설정\n",
        "patience = 5\n",
        "\n",
        "trainer = Trainer(\n",
        "    model=model,                         # 학습할 모델\n",
        "    args=training_args,                  # TrainingArguments\n",
        "    train_dataset = train_ds,\n",
        "    eval_dataset = val_ds,\n",
        "    tokenizer=tokenizer,\n",
        "    callbacks=[EarlyStoppingCallback(early_stopping_patience=patience)], # 조기 종료\n",
        ")"
      ]
    },
    {
      "cell_type": "code",
      "execution_count": null,
      "metadata": {
        "colab": {
          "base_uri": "https://localhost:8080/",
          "height": 426
        },
        "id": "q-6soUikMp5y",
        "outputId": "e03c490a-8abe-4941-e049-fe99ab19fe05"
      },
      "outputs": [
        {
          "data": {
            "text/html": [
              "\n",
              "    <div>\n",
              "      \n",
              "      <progress value='300' max='600' style='width:300px; height:20px; vertical-align: middle;'></progress>\n",
              "      [300/600 00:59 < 00:59, 5.03 it/s, Epoch 10/20]\n",
              "    </div>\n",
              "    <table border=\"1\" class=\"dataframe\">\n",
              "  <thead>\n",
              " <tr style=\"text-align: left;\">\n",
              "      <th>Epoch</th>\n",
              "      <th>Training Loss</th>\n",
              "      <th>Validation Loss</th>\n",
              "    </tr>\n",
              "  </thead>\n",
              "  <tbody>\n",
              "    <tr>\n",
              "      <td>1</td>\n",
              "      <td>0.947300</td>\n",
              "      <td>0.871459</td>\n",
              "    </tr>\n",
              "    <tr>\n",
              "      <td>2</td>\n",
              "      <td>0.624700</td>\n",
              "      <td>0.682762</td>\n",
              "    </tr>\n",
              "    <tr>\n",
              "      <td>3</td>\n",
              "      <td>0.507800</td>\n",
              "      <td>0.579971</td>\n",
              "    </tr>\n",
              "    <tr>\n",
              "      <td>4</td>\n",
              "      <td>0.388100</td>\n",
              "      <td>0.511908</td>\n",
              "    </tr>\n",
              "    <tr>\n",
              "      <td>5</td>\n",
              "      <td>0.309900</td>\n",
              "      <td>0.499718</td>\n",
              "    </tr>\n",
              "    <tr>\n",
              "      <td>6</td>\n",
              "      <td>0.228200</td>\n",
              "      <td>0.507404</td>\n",
              "    </tr>\n",
              "    <tr>\n",
              "      <td>7</td>\n",
              "      <td>0.179300</td>\n",
              "      <td>0.615886</td>\n",
              "    </tr>\n",
              "    <tr>\n",
              "      <td>8</td>\n",
              "      <td>0.171100</td>\n",
              "      <td>0.643781</td>\n",
              "    </tr>\n",
              "    <tr>\n",
              "      <td>9</td>\n",
              "      <td>0.100500</td>\n",
              "      <td>0.696029</td>\n",
              "    </tr>\n",
              "    <tr>\n",
              "      <td>10</td>\n",
              "      <td>0.089500</td>\n",
              "      <td>0.735558</td>\n",
              "    </tr>\n",
              "  </tbody>\n",
              "</table><p>"
            ],
            "text/plain": [
              "<IPython.core.display.HTML object>"
            ]
          },
          "metadata": {},
          "output_type": "display_data"
        },
        {
          "data": {
            "text/plain": [
              "TrainOutput(global_step=300, training_loss=0.39919927457968396, metrics={'train_runtime': 59.3556, 'train_samples_per_second': 161.737, 'train_steps_per_second': 10.109, 'total_flos': 78935442739200.0, 'train_loss': 0.39919927457968396, 'epoch': 10.0})"
            ]
          },
          "execution_count": 106,
          "metadata": {},
          "output_type": "execute_result"
        }
      ],
      "source": [
        "# 모델 학습\n",
        "trainer.train()"
      ]
    },
    {
      "cell_type": "code",
      "execution_count": null,
      "metadata": {
        "colab": {
          "base_uri": "https://localhost:8080/",
          "height": 76
        },
        "id": "z9itVKStpl3W",
        "outputId": "9c9b147f-13d2-4ad9-a891-faf9e27ccc63"
      },
      "outputs": [
        {
          "data": {
            "text/html": [
              "\n",
              "    <div>\n",
              "      \n",
              "      <progress value='8' max='8' style='width:300px; height:20px; vertical-align: middle;'></progress>\n",
              "      [8/8 00:00]\n",
              "    </div>\n",
              "    "
            ],
            "text/plain": [
              "<IPython.core.display.HTML object>"
            ]
          },
          "metadata": {},
          "output_type": "display_data"
        },
        {
          "name": "stdout",
          "output_type": "stream",
          "text": [
            "Evaluation results: {'eval_loss': 0.4997177720069885, 'eval_runtime': 0.1051, 'eval_samples_per_second': 1142.224, 'eval_steps_per_second': 76.148, 'epoch': 10.0}\n"
          ]
        }
      ],
      "source": [
        "# 모델 평가\n",
        "eval_result = trainer.evaluate()\n",
        "print(f'Evaluation results: {eval_result}')"
      ]
    },
    {
      "cell_type": "markdown",
      "metadata": {
        "id": "ix-b6Taw3EvG"
      },
      "source": [
        "### (3) 모델 검증평가\n",
        "* evaluate 함수를 이용해서 검증셋에 대한 성능 평가를 수행합니다."
      ]
    },
    {
      "cell_type": "code",
      "execution_count": null,
      "metadata": {
        "id": "a--b8NWuPwOA"
      },
      "outputs": [],
      "source": [
        "pred, prob = evaluate(val_ds, model, device, tokenizer)"
      ]
    },
    {
      "cell_type": "code",
      "execution_count": null,
      "metadata": {
        "colab": {
          "base_uri": "https://localhost:8080/"
        },
        "id": "CUifn3RflQdV",
        "outputId": "64204246-a953-4311-c5e5-cbd46ee877fc"
      },
      "outputs": [
        {
          "name": "stdout",
          "output_type": "stream",
          "text": [
            "[[17 11  0  0  0]\n",
            " [ 5 19  0  0  0]\n",
            " [ 0  0 19  0  0]\n",
            " [ 1  0  1 20  1]\n",
            " [ 2  0  0  3 21]]\n",
            "              precision    recall  f1-score   support\n",
            "\n",
            "           0       0.68      0.61      0.64        28\n",
            "           1       0.63      0.79      0.70        24\n",
            "           2       0.95      1.00      0.97        19\n",
            "           3       0.87      0.87      0.87        23\n",
            "           4       0.95      0.81      0.88        26\n",
            "\n",
            "    accuracy                           0.80       120\n",
            "   macro avg       0.82      0.82      0.81       120\n",
            "weighted avg       0.81      0.80      0.80       120\n",
            "\n"
          ]
        }
      ],
      "source": [
        "print(confusion_matrix(val_ds['label'], pred))\n",
        "print(classification_report(val_ds['label'], pred))"
      ]
    },
    {
      "cell_type": "markdown",
      "metadata": {
        "id": "iQ_s6MWHNHEl"
      },
      "source": [
        "### (4) 모델 사용\n",
        "* 응급상황에 대한 샘플 문자을 넣고 등급을 적절히 분류하는지 눈으로 확인해 봅시다."
      ]
    },
    {
      "cell_type": "code",
      "execution_count": null,
      "metadata": {
        "colab": {
          "base_uri": "https://localhost:8080/"
        },
        "id": "96Yg3gFWGVni",
        "outputId": "9d4ce2d3-1ae5-4b20-9e1b-d02852052255"
      },
      "outputs": [
        {
          "name": "stdout",
          "output_type": "stream",
          "text": [
            "예측된 클래스: 2\n",
            "예측된 클래스 이름: 3등급\n",
            "클래스별 확률: tensor([[0.1787, 0.1572, 0.3970, 0.1232, 0.1440]], device='cuda:0')\n"
          ]
        }
      ],
      "source": [
        "text = \"넘어졌는데, 지금 출혈이 있고, 머리가 어지럽습니다.\"\n",
        "predicted_class, probabilities = predict(text, model, tokenizer)\n",
        "\n",
        "print(f\"예측된 클래스: {predicted_class}\")\n",
        "print(f\"예측된 클래스 이름: {predicted_class+1}등급\")\n",
        "print(f\"클래스별 확률: {probabilities}\")"
      ]
    },
    {
      "cell_type": "markdown",
      "metadata": {
        "id": "y8FEhy5rUBsX"
      },
      "source": [
        "## 4.모델 저장"
      ]
    },
    {
      "cell_type": "markdown",
      "metadata": {
        "id": "mGU1b-yzUGmi"
      },
      "source": [
        "### (1) 모델 저장\n",
        "* save_pretrained 메서드를 사용해 모델과 토크나이저를 디렉토리에 저장합니다.\n",
        "* 저장 대상 : 모델, 토크나이저"
      ]
    },
    {
      "cell_type": "code",
      "execution_count": null,
      "metadata": {
        "colab": {
          "base_uri": "https://localhost:8080/"
        },
        "id": "EQuXh6i3UDBL",
        "outputId": "7803d247-f355-463d-ddad-f89bcfa125e3"
      },
      "outputs": [
        {
          "data": {
            "text/plain": [
              "('/content/drive/MyDrive/project6_2/fine_tuned_bert/tokenizer_config.json',\n",
              " '/content/drive/MyDrive/project6_2/fine_tuned_bert/special_tokens_map.json',\n",
              " '/content/drive/MyDrive/project6_2/fine_tuned_bert/vocab.txt',\n",
              " '/content/drive/MyDrive/project6_2/fine_tuned_bert/added_tokens.json',\n",
              " '/content/drive/MyDrive/project6_2/fine_tuned_bert/tokenizer.json')"
            ]
          },
          "execution_count": 111,
          "metadata": {},
          "output_type": "execute_result"
        }
      ],
      "source": [
        "# 모델과 토크나이저 저장 경로 : 폴더가 없으면, fine_tuned_bert를 생성\n",
        "save_directory = path + \"fine_tuned_bert\"\n",
        "\n",
        "# 모델 저장\n",
        "model.save_pretrained(save_directory)\n",
        "\n",
        "# 토크나이저도 함께 저장\n",
        "tokenizer.save_pretrained(save_directory)"
      ]
    },
    {
      "cell_type": "markdown",
      "metadata": {
        "id": "inceXKa-UYnH"
      },
      "source": [
        "### (2) 모델 로딩 및 사용\n",
        "* 저장한 모델을 나중에 다시 불러와 예측이나 추가 작업에 사용할 수 있습니다. Hugging Face from_pretrained 메서드를 사용하여 저장 경로에서 모델과 토크나이저를 로드합니다.\n",
        "* 로딩 대상 : 모델, 토크나이저"
      ]
    },
    {
      "cell_type": "code",
      "execution_count": null,
      "metadata": {
        "id": "4ECAESD3UYnI"
      },
      "outputs": [],
      "source": [
        "# 모델 로드\n",
        "model2 = AutoModelForSequenceClassification.from_pretrained(save_directory)\n",
        "model2.to(device)\n",
        "\n",
        "# 토크나이저 로드\n",
        "tokenizer2 = AutoTokenizer.from_pretrained(save_directory)"
      ]
    },
    {
      "cell_type": "code",
      "execution_count": null,
      "metadata": {
        "colab": {
          "base_uri": "https://localhost:8080/"
        },
        "id": "e-maRgSLUh86",
        "outputId": "5a0c9b8b-df9e-4e52-d90e-1d4a8089613e"
      },
      "outputs": [
        {
          "name": "stdout",
          "output_type": "stream",
          "text": [
            "예측된 클래스: 2\n",
            "예측된 클래스 이름: 3등급\n",
            "클래스별 확률: tensor([[0.1787, 0.1572, 0.3970, 0.1232, 0.1440]], device='cuda:0')\n"
          ]
        }
      ],
      "source": [
        "text = \"넘어졌는데, 지금 출혈이 있고, 머리가 어지럽습니다.\"\n",
        "predicted_class, probabilities = predict(text, model2, tokenizer2)\n",
        "\n",
        "print(f\"예측된 클래스: {predicted_class}\")\n",
        "print(f\"예측된 클래스 이름: {predicted_class+1}등급\")\n",
        "print(f\"클래스별 확률: {probabilities}\")"
      ]
    },
    {
      "cell_type": "code",
      "execution_count": null,
      "metadata": {
        "id": "ZZGp6DtoX8GF"
      },
      "outputs": [],
      "source": []
    }
  ],
  "metadata": {
    "accelerator": "GPU",
    "colab": {
      "gpuType": "L4",
      "include_colab_link": true,
      "machine_shape": "hm",
      "provenance": []
    },
    "kernelspec": {
      "display_name": "Python 3",
      "name": "python3"
    },
    "language_info": {
      "codemirror_mode": {
        "name": "ipython",
        "version": 3
      },
      "file_extension": ".py",
      "mimetype": "text/x-python",
      "name": "python",
      "nbconvert_exporter": "python",
      "pygments_lexer": "ipython3",
      "version": "3.12.2"
    },
           "3ae9749c4b994450b080a526cefab5f1": {
          "model_module": "@jupyter-widgets/controls",
          "model_module_version": "1.5.0",
          "model_name": "HTMLModel",
          "state": {
            "_dom_classes": [],
            "_model_module": "@jupyter-widgets/controls",
            "_model_module_version": "1.5.0",
            "_model_name": "HTMLModel",
            "_view_count": null,
            "_view_module": "@jupyter-widgets/controls",
            "_view_module_version": "1.5.0",
            "_view_name": "HTMLView",
            "description": "",
            "description_tooltip": null,
            "layout": "IPY_MODEL_885c9f1316e04df38a4870c6d666d63c",
            "placeholder": "​",
            "style": "IPY_MODEL_b85f90927537415cab38341d56f3bad8",
            "value": "Map: 100%"
          }
        },
        "3b646ee2ca9d4f9f8e794800dca9142d": {
          "model_module": "@jupyter-widgets/controls",
          "model_module_version": "1.5.0",
          "model_name": "HTMLModel",
          "state": {
            "_dom_classes": [],
            "_model_module": "@jupyter-widgets/controls",
            "_model_module_version": "1.5.0",
            "_model_name": "HTMLModel",
            "_view_count": null,
            "_view_module": "@jupyter-widgets/controls",
            "_view_module_version": "1.5.0",
            "_view_name": "HTMLView",
            "description": "",
            "description_tooltip": null,
            "layout": "IPY_MODEL_eb9cab9d948045458cc5634d890890fa",
            "placeholder": "​",
            "style": "IPY_MODEL_5b71abfd19ad4dd0bf1b0967686e552f",
            "value": "Map: 100%"
          }
        },
        "3edf3f9a9868454f88c2ef667bce721a": {
          "model_module": "@jupyter-widgets/controls",
          "model_module_version": "1.5.0",
          "model_name": "HTMLModel",
          "state": {
            "_dom_classes": [],
            "_model_module": "@jupyter-widgets/controls",
            "_model_module_version": "1.5.0",
            "_model_name": "HTMLModel",
            "_view_count": null,
            "_view_module": "@jupyter-widgets/controls",
            "_view_module_version": "1.5.0",
            "_view_name": "HTMLView",
            "description": "",
            "description_tooltip": null,
            "layout": "IPY_MODEL_2d1ef586d3884cdf912059140516754e",
            "placeholder": "​",
            "style": "IPY_MODEL_b7ba257cbf5a4af1879ebf4e1b3472b4",
            "value": " 120/120 [00:00&lt;00:00, 5009.32 examples/s]"
          }
        },
        "5b71abfd19ad4dd0bf1b0967686e552f": {
          "model_module": "@jupyter-widgets/controls",
          "model_module_version": "1.5.0",
          "model_name": "DescriptionStyleModel",
          "state": {
            "_model_module": "@jupyter-widgets/controls",
            "_model_module_version": "1.5.0",
            "_model_name": "DescriptionStyleModel",
            "_view_count": null,
            "_view_module": "@jupyter-widgets/base",
            "_view_module_version": "1.2.0",
            "_view_name": "StyleView",
            "description_width": ""
          }
        },
        "6c089beb9ced47459bd61ad1de3000da": {
          "model_module": "@jupyter-widgets/controls",
          "model_module_version": "1.5.0",
          "model_name": "ProgressStyleModel",
          "state": {
            "_model_module": "@jupyter-widgets/controls",
            "_model_module_version": "1.5.0",
            "_model_name": "ProgressStyleModel",
            "_view_count": null,
            "_view_module": "@jupyter-widgets/base",
            "_view_module_version": "1.2.0",
            "_view_name": "StyleView",
            "bar_color": null,
            "description_width": ""
          }
        },
        "734115c417814336b09aaee087812b94": {
          "model_module": "@jupyter-widgets/base",
          "model_module_version": "1.2.0",
          "model_name": "LayoutModel",
          "state": {
            "_model_module": "@jupyter-widgets/base",
            "_model_module_version": "1.2.0",
            "_model_name": "LayoutModel",
            "_view_count": null,
            "_view_module": "@jupyter-widgets/base",
            "_view_module_version": "1.2.0",
            "_view_name": "LayoutView",
            "align_content": null,
            "align_items": null,
            "align_self": null,
            "border": null,
            "bottom": null,
            "display": null,
            "flex": null,
            "flex_flow": null,
            "grid_area": null,
            "grid_auto_columns": null,
            "grid_auto_flow": null,
            "grid_auto_rows": null,
            "grid_column": null,
            "grid_gap": null,
            "grid_row": null,
            "grid_template_areas": null,
            "grid_template_columns": null,
            "grid_template_rows": null,
            "height": null,
            "justify_content": null,
            "justify_items": null,
            "left": null,
            "margin": null,
            "max_height": null,
            "max_width": null,
            "min_height": null,
            "min_width": null,
            "object_fit": null,
            "object_position": null,
            "order": null,
            "overflow": null,
            "overflow_x": null,
            "overflow_y": null,
            "padding": null,
            "right": null,
            "top": null,
            "visibility": null,
            "width": null
          }
        },
        "84a27cab99924e0985afd62cc3668688": {
          "model_module": "@jupyter-widgets/controls",
          "model_module_version": "1.5.0",
          "model_name": "HTMLModel",
          "state": {
            "_dom_classes": [],
            "_model_module": "@jupyter-widgets/controls",
            "_model_module_version": "1.5.0",
            "_model_name": "HTMLModel",
            "_view_count": null,
            "_view_module": "@jupyter-widgets/controls",
            "_view_module_version": "1.5.0",
            "_view_name": "HTMLView",
            "description": "",
            "description_tooltip": null,
            "layout": "IPY_MODEL_bf21248ac88b452f842679635875f9ee",
            "placeholder": "​",
            "style": "IPY_MODEL_be94b469f0e24be1a308d2bf8b5270ea",
            "value": " 480/480 [00:00&lt;00:00, 14395.17 examples/s]"
          }
        },
        "875dbd7224ab4014b7398052e6b26beb": {
          "model_module": "@jupyter-widgets/controls",
          "model_module_version": "1.5.0",
          "model_name": "HBoxModel",
          "state": {
            "_dom_classes": [],
            "_model_module": "@jupyter-widgets/controls",
            "_model_module_version": "1.5.0",
            "_model_name": "HBoxModel",
            "_view_count": null,
            "_view_module": "@jupyter-widgets/controls",
            "_view_module_version": "1.5.0",
            "_view_name": "HBoxView",
            "box_style": "",
            "children": [
              "IPY_MODEL_3b646ee2ca9d4f9f8e794800dca9142d",
              "IPY_MODEL_aabce1ca48e84222a6e3180648df0ea8",
              "IPY_MODEL_84a27cab99924e0985afd62cc3668688"
            ],
            "layout": "IPY_MODEL_f9e8f9c078634bb585e89cd0cadcd07b"
          }
        },
        "885c9f1316e04df38a4870c6d666d63c": {
          "model_module": "@jupyter-widgets/base",
          "model_module_version": "1.2.0",
          "model_name": "LayoutModel",
          "state": {
            "_model_module": "@jupyter-widgets/base",
            "_model_module_version": "1.2.0",
            "_model_name": "LayoutModel",
            "_view_count": null,
            "_view_module": "@jupyter-widgets/base",
            "_view_module_version": "1.2.0",
            "_view_name": "LayoutView",
            "align_content": null,
            "align_items": null,
            "align_self": null,
            "border": null,
            "bottom": null,
            "display": null,
            "flex": null,
            "flex_flow": null,
            "grid_area": null,
            "grid_auto_columns": null,
            "grid_auto_flow": null,
            "grid_auto_rows": null,
            "grid_column": null,
            "grid_gap": null,
            "grid_row": null,
            "grid_template_areas": null,
            "grid_template_columns": null,
            "grid_template_rows": null,
            "height": null,
            "justify_content": null,
            "justify_items": null,
            "left": null,
            "margin": null,
            "max_height": null,
            "max_width": null,
            "min_height": null,
            "min_width": null,
            "object_fit": null,
            "object_position": null,
            "order": null,
            "overflow": null,
            "overflow_x": null,
            "overflow_y": null,
            "padding": null,
            "right": null,
            "top": null,
            "visibility": null,
            "width": null
          }
        },
        "91442f0258004ac6b06e048916d99ee1": {
          "model_module": "@jupyter-widgets/controls",
          "model_module_version": "1.5.0",
          "model_name": "HBoxModel",
          "state": {
            "_dom_classes": [],
            "_model_module": "@jupyter-widgets/controls",
            "_model_module_version": "1.5.0",
            "_model_name": "HBoxModel",
            "_view_count": null,
            "_view_module": "@jupyter-widgets/controls",
            "_view_module_version": "1.5.0",
            "_view_name": "HBoxView",
            "box_style": "",
            "children": [
              "IPY_MODEL_3ae9749c4b994450b080a526cefab5f1",
              "IPY_MODEL_fb8db66f4f314409b25316eccb08bc47",
              "IPY_MODEL_3edf3f9a9868454f88c2ef667bce721a"
            ],
            "layout": "IPY_MODEL_734115c417814336b09aaee087812b94"
          }
        },
        "aabce1ca48e84222a6e3180648df0ea8": {
          "model_module": "@jupyter-widgets/controls",
          "model_module_version": "1.5.0",
          "model_name": "FloatProgressModel",
          "state": {
            "_dom_classes": [],
            "_model_module": "@jupyter-widgets/controls",
            "_model_module_version": "1.5.0",
            "_model_name": "FloatProgressModel",
            "_view_count": null,
            "_view_module": "@jupyter-widgets/controls",
            "_view_module_version": "1.5.0",
            "_view_name": "ProgressView",
            "bar_style": "success",
            "description": "",
            "description_tooltip": null,
            "layout": "IPY_MODEL_e77a58c9ce2d4a4db0675b6ca3b7af93",
            "max": 480,
            "min": 0,
            "orientation": "horizontal",
            "style": "IPY_MODEL_ee19acba778a4e9cb9cf7788b5eab84f",
            "value": 480
          }
        },
        "b7ba257cbf5a4af1879ebf4e1b3472b4": {
          "model_module": "@jupyter-widgets/controls",
          "model_module_version": "1.5.0",
          "model_name": "DescriptionStyleModel",
          "state": {
            "_model_module": "@jupyter-widgets/controls",
            "_model_module_version": "1.5.0",
            "_model_name": "DescriptionStyleModel",
            "_view_count": null,
            "_view_module": "@jupyter-widgets/base",
            "_view_module_version": "1.2.0",
            "_view_name": "StyleView",
            "description_width": ""
          }
        },
        "b85f90927537415cab38341d56f3bad8": {
          "model_module": "@jupyter-widgets/controls",
          "model_module_version": "1.5.0",
          "model_name": "DescriptionStyleModel",
          "state": {
            "_model_module": "@jupyter-widgets/controls",
            "_model_module_version": "1.5.0",
            "_model_name": "DescriptionStyleModel",
            "_view_count": null,
            "_view_module": "@jupyter-widgets/base",
            "_view_module_version": "1.2.0",
            "_view_name": "StyleView",
            "description_width": ""
          }
        },
        "be94b469f0e24be1a308d2bf8b5270ea": {
          "model_module": "@jupyter-widgets/controls",
          "model_module_version": "1.5.0",
          "model_name": "DescriptionStyleModel",
          "state": {
            "_model_module": "@jupyter-widgets/controls",
            "_model_module_version": "1.5.0",
            "_model_name": "DescriptionStyleModel",
            "_view_count": null,
            "_view_module": "@jupyter-widgets/base",
            "_view_module_version": "1.2.0",
            "_view_name": "StyleView",
            "description_width": ""
          }
        },
        "bf21248ac88b452f842679635875f9ee": {
          "model_module": "@jupyter-widgets/base",
          "model_module_version": "1.2.0",
          "model_name": "LayoutModel",
          "state": {
            "_model_module": "@jupyter-widgets/base",
            "_model_module_version": "1.2.0",
            "_model_name": "LayoutModel",
            "_view_count": null,
            "_view_module": "@jupyter-widgets/base",
            "_view_module_version": "1.2.0",
            "_view_name": "LayoutView",
            "align_content": null,
            "align_items": null,
            "align_self": null,
            "border": null,
            "bottom": null,
            "display": null,
            "flex": null,
            "flex_flow": null,
            "grid_area": null,
            "grid_auto_columns": null,
            "grid_auto_flow": null,
            "grid_auto_rows": null,
            "grid_column": null,
            "grid_gap": null,
            "grid_row": null,
            "grid_template_areas": null,
            "grid_template_columns": null,
            "grid_template_rows": null,
            "height": null,
            "justify_content": null,
            "justify_items": null,
            "left": null,
            "margin": null,
            "max_height": null,
            "max_width": null,
            "min_height": null,
            "min_width": null,
            "object_fit": null,
            "object_position": null,
            "order": null,
            "overflow": null,
            "overflow_x": null,
            "overflow_y": null,
            "padding": null,
            "right": null,
            "top": null,
            "visibility": null,
            "width": null
          }
        },
        "e77a58c9ce2d4a4db0675b6ca3b7af93": {
          "model_module": "@jupyter-widgets/base",
          "model_module_version": "1.2.0",
          "model_name": "LayoutModel",
          "state": {
            "_model_module": "@jupyter-widgets/base",
            "_model_module_version": "1.2.0",
            "_model_name": "LayoutModel",
            "_view_count": null,
            "_view_module": "@jupyter-widgets/base",
            "_view_module_version": "1.2.0",
            "_view_name": "LayoutView",
            "align_content": null,
            "align_items": null,
            "align_self": null,
            "border": null,
            "bottom": null,
            "display": null,
            "flex": null,
            "flex_flow": null,
            "grid_area": null,
            "grid_auto_columns": null,
            "grid_auto_flow": null,
            "grid_auto_rows": null,
            "grid_column": null,
            "grid_gap": null,
            "grid_row": null,
            "grid_template_areas": null,
            "grid_template_columns": null,
            "grid_template_rows": null,
            "height": null,
            "justify_content": null,
            "justify_items": null,
            "left": null,
            "margin": null,
            "max_height": null,
            "max_width": null,
            "min_height": null,
            "min_width": null,
            "object_fit": null,
            "object_position": null,
            "order": null,
            "overflow": null,
            "overflow_x": null,
            "overflow_y": null,
            "padding": null,
            "right": null,
            "top": null,
            "visibility": null,
            "width": null
          }
        },
        "eb9cab9d948045458cc5634d890890fa": {
          "model_module": "@jupyter-widgets/base",
          "model_module_version": "1.2.0",
          "model_name": "LayoutModel",
          "state": {
            "_model_module": "@jupyter-widgets/base",
            "_model_module_version": "1.2.0",
            "_model_name": "LayoutModel",
            "_view_count": null,
            "_view_module": "@jupyter-widgets/base",
            "_view_module_version": "1.2.0",
            "_view_name": "LayoutView",
            "align_content": null,
            "align_items": null,
            "align_self": null,
            "border": null,
            "bottom": null,
            "display": null,
            "flex": null,
            "flex_flow": null,
            "grid_area": null,
            "grid_auto_columns": null,
            "grid_auto_flow": null,
            "grid_auto_rows": null,
            "grid_column": null,
            "grid_gap": null,
            "grid_row": null,
            "grid_template_areas": null,
            "grid_template_columns": null,
            "grid_template_rows": null,
            "height": null,
            "justify_content": null,
            "justify_items": null,
            "left": null,
            "margin": null,
            "max_height": null,
            "max_width": null,
            "min_height": null,
            "min_width": null,
            "object_fit": null,
            "object_position": null,
            "order": null,
            "overflow": null,
            "overflow_x": null,
            "overflow_y": null,
            "padding": null,
            "right": null,
            "top": null,
            "visibility": null,
            "width": null
          }
        },
        "ec0eefdf9e8d414895f632dba715a7d8": {
          "model_module": "@jupyter-widgets/base",
          "model_module_version": "1.2.0",
          "model_name": "LayoutModel",
          "state": {
            "_model_module": "@jupyter-widgets/base",
            "_model_module_version": "1.2.0",
            "_model_name": "LayoutModel",
            "_view_count": null,
            "_view_module": "@jupyter-widgets/base",
            "_view_module_version": "1.2.0",
            "_view_name": "LayoutView",
            "align_content": null,
            "align_items": null,
            "align_self": null,
            "border": null,
            "bottom": null,
            "display": null,
            "flex": null,
            "flex_flow": null,
            "grid_area": null,
            "grid_auto_columns": null,
            "grid_auto_flow": null,
            "grid_auto_rows": null,
            "grid_column": null,
            "grid_gap": null,
            "grid_row": null,
            "grid_template_areas": null,
            "grid_template_columns": null,
            "grid_template_rows": null,
            "height": null,
            "justify_content": null,
            "justify_items": null,
            "left": null,
            "margin": null,
            "max_height": null,
            "max_width": null,
            "min_height": null,
            "min_width": null,
            "object_fit": null,
            "object_position": null,
            "order": null,
            "overflow": null,
            "overflow_x": null,
            "overflow_y": null,
            "padding": null,
            "right": null,
            "top": null,
            "visibility": null,
            "width": null
          }
        },
        "ee19acba778a4e9cb9cf7788b5eab84f": {
          "model_module": "@jupyter-widgets/controls",
          "model_module_version": "1.5.0",
          "model_name": "ProgressStyleModel",
          "state": {
            "_model_module": "@jupyter-widgets/controls",
            "_model_module_version": "1.5.0",
            "_model_name": "ProgressStyleModel",
            "_view_count": null,
            "_view_module": "@jupyter-widgets/base",
            "_view_module_version": "1.2.0",
            "_view_name": "StyleView",
            "bar_color": null,
            "description_width": ""
          }
        },
        "f9e8f9c078634bb585e89cd0cadcd07b": {
          "model_module": "@jupyter-widgets/base",
          "model_module_version": "1.2.0",
          "model_name": "LayoutModel",
          "state": {
            "_model_module": "@jupyter-widgets/base",
            "_model_module_version": "1.2.0",
            "_model_name": "LayoutModel",
            "_view_count": null,
            "_view_module": "@jupyter-widgets/base",
            "_view_module_version": "1.2.0",
            "_view_name": "LayoutView",
            "align_content": null,
            "align_items": null,
            "align_self": null,
            "border": null,
            "bottom": null,
            "display": null,
            "flex": null,
            "flex_flow": null,
            "grid_area": null,
            "grid_auto_columns": null,
            "grid_auto_flow": null,
            "grid_auto_rows": null,
            "grid_column": null,
            "grid_gap": null,
            "grid_row": null,
            "grid_template_areas": null,
            "grid_template_columns": null,
            "grid_template_rows": null,
            "height": null,
            "justify_content": null,
            "justify_items": null,
            "left": null,
            "margin": null,
            "max_height": null,
            "max_width": null,
            "min_height": null,
            "min_width": null,
            "object_fit": null,
            "object_position": null,
            "order": null,
            "overflow": null,
            "overflow_x": null,
            "overflow_y": null,
            "padding": null,
            "right": null,
            "top": null,
            "visibility": null,
            "width": null
          }
        },
        "fb8db66f4f314409b25316eccb08bc47": {
          "model_module": "@jupyter-widgets/controls",
          "model_module_version": "1.5.0",
          "model_name": "FloatProgressModel",
          "state": {
            "_dom_classes": [],
            "_model_module": "@jupyter-widgets/controls",
            "_model_module_version": "1.5.0",
            "_model_name": "FloatProgressModel",
            "_view_count": null,
            "_view_module": "@jupyter-widgets/controls",
            "_view_module_version": "1.5.0",
            "_view_name": "ProgressView",
            "bar_style": "success",
            "description": "",
            "description_tooltip": null,
            "layout": "IPY_MODEL_ec0eefdf9e8d414895f632dba715a7d8",
            "max": 120,
            "min": 0,
            "orientation": "horizontal",
            "style": "IPY_MODEL_6c089beb9ced47459bd61ad1de3000da",
            "value": 120
          }
        }
      }
    }
  },
  "nbformat": 4,
  "nbformat_minor": 0
}
